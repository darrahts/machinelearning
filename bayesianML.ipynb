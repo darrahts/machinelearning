{
 "cells": [
  {
   "cell_type": "markdown",
   "metadata": {},
   "source": [
    "# Bayesian ML\n",
    "- http://fastml.com/bayesian-machine-learning/\n",
    "- http://www.columbia.edu/~jwp2128/Teaching/E6720/BayesianModelsMachineLearning2016.pdf\n",
    "- https://towardsdatascience.com/what-is-bayesian-statistics-used-for-37b91c2c257c\n",
    "- https://docs.scipy.org/doc/scipy/reference/generated/scipy.stats.norm.html"
   ]
  },
  {
   "cell_type": "code",
   "execution_count": 9,
   "metadata": {},
   "outputs": [],
   "source": [
    "import numpy as np\n",
    "import pandas as pd\n",
    "from scipy import stats"
   ]
  },
  {
   "cell_type": "markdown",
   "metadata": {},
   "source": [
    "### T-Test\n",
    "- generate random data\n",
    "- get unbiased variance (N-1) with ddof=1\n",
    "- get pooled std (https://www.statisticshowto.datasciencecentral.com/pooled-standard-deviation/)\n",
    "- _"
   ]
  },
  {
   "cell_type": "code",
   "execution_count": 29,
   "metadata": {},
   "outputs": [],
   "source": [
    "def t_test(a,b):\n",
    "    from scipy.stats import t\n",
    "    var_a = a.var(ddof=1)\n",
    "    var_b = b.var(ddof=1)\n",
    "    std_pooled = np.sqrt((var_a + var_b)/2)\n",
    "    _t = (a.mean() - b.mean()) / (std_pooled * np.sqrt(2.0/N))\n",
    "    df = 2*N-2\n",
    "    p = 1 - t.cdf(_t, df=df)\n",
    "    return _t,p"
   ]
  },
  {
   "cell_type": "code",
   "execution_count": 3,
   "metadata": {},
   "outputs": [
    {
     "name": "stdout",
     "output_type": "stream",
     "text": [
      "2.724793685278926\n",
      "t:2.72\tp:0.013899\n"
     ]
    }
   ],
   "source": [
    "N = 10\n",
    "a = np.random.randn(N) + 2\n",
    "b = np.random.randn(N)\n",
    "\n",
    "\n",
    "t,p = t_test(a,b)\n",
    "print(t)\n",
    "print(\"t:{:.2f}\\tp:{:.6f}\".format(t, 2*p))\n",
    "#t2, p2 = stats.ttest_ind(a,b)\n",
    "#print(\"t:{:.2f}\\tp:{:.6f}\".format(t2,p2))\n"
   ]
  },
  {
   "cell_type": "code",
   "execution_count": 6,
   "metadata": {},
   "outputs": [
    {
     "data": {
      "text/html": [
       "<div>\n",
       "<style scoped>\n",
       "    .dataframe tbody tr th:only-of-type {\n",
       "        vertical-align: middle;\n",
       "    }\n",
       "\n",
       "    .dataframe tbody tr th {\n",
       "        vertical-align: top;\n",
       "    }\n",
       "\n",
       "    .dataframe thead th {\n",
       "        text-align: right;\n",
       "    }\n",
       "</style>\n",
       "<table border=\"1\" class=\"dataframe\">\n",
       "  <thead>\n",
       "    <tr style=\"text-align: right;\">\n",
       "      <th></th>\n",
       "      <th>advertisement_id</th>\n",
       "      <th>action</th>\n",
       "    </tr>\n",
       "  </thead>\n",
       "  <tbody>\n",
       "    <tr>\n",
       "      <td>0</td>\n",
       "      <td>B</td>\n",
       "      <td>1</td>\n",
       "    </tr>\n",
       "    <tr>\n",
       "      <td>1</td>\n",
       "      <td>B</td>\n",
       "      <td>1</td>\n",
       "    </tr>\n",
       "    <tr>\n",
       "      <td>2</td>\n",
       "      <td>A</td>\n",
       "      <td>0</td>\n",
       "    </tr>\n",
       "    <tr>\n",
       "      <td>3</td>\n",
       "      <td>B</td>\n",
       "      <td>0</td>\n",
       "    </tr>\n",
       "    <tr>\n",
       "      <td>4</td>\n",
       "      <td>A</td>\n",
       "      <td>1</td>\n",
       "    </tr>\n",
       "  </tbody>\n",
       "</table>\n",
       "</div>"
      ],
      "text/plain": [
       "  advertisement_id  action\n",
       "0                B       1\n",
       "1                B       1\n",
       "2                A       0\n",
       "3                B       0\n",
       "4                A       1"
      ]
     },
     "execution_count": 6,
     "metadata": {},
     "output_type": "execute_result"
    }
   ],
   "source": [
    "ads_df = pd.read_csv('advertisement_clicks.csv')\n",
    "ads_df.head()"
   ]
  },
  {
   "cell_type": "code",
   "execution_count": 8,
   "metadata": {},
   "outputs": [],
   "source": [
    "A_df = ads_df[ads_df['advertisement_id'] == 'A']\n",
    "B_df = ads_df[ads_df['advertisement_id'] == 'B']\n",
    "A = A_df['action']\n",
    "B = B_df['action']"
   ]
  },
  {
   "cell_type": "code",
   "execution_count": 13,
   "metadata": {},
   "outputs": [],
   "source": [
    "a_mu = A.mean()\n",
    "b_mu = B.mean()\n",
    "\n",
    "a_var = A.var()\n",
    "b_var = B.var()"
   ]
  },
  {
   "cell_type": "code",
   "execution_count": 14,
   "metadata": {},
   "outputs": [
    {
     "name": "stdout",
     "output_type": "stream",
     "text": [
      "0.304 0.372\n",
      "0.21179579579579275 0.23384984984985163\n"
     ]
    }
   ],
   "source": [
    "print(a_mu, b_mu)\n",
    "print(a_var,b_var)"
   ]
  },
  {
   "cell_type": "code",
   "execution_count": 15,
   "metadata": {},
   "outputs": [
    {
     "name": "stdout",
     "output_type": "stream",
     "text": [
      "T:-3.2211732138019786\tp:0.0012971905467125246\n"
     ]
    }
   ],
   "source": [
    "t, p = stats.ttest_ind(A,B)\n",
    "print(\"T:{}\\tp:{}\".format(t,p))"
   ]
  },
  {
   "cell_type": "code",
   "execution_count": 16,
   "metadata": {},
   "outputs": [
    {
     "name": "stdout",
     "output_type": "stream",
     "text": [
      "welches t:-3.2211732138019786\tp:0.0012972410374001632\n"
     ]
    }
   ],
   "source": [
    "t,p = stats.ttest_ind(A,B, equal_var=False)\n",
    "print(\"welches t:{}\\tp:{}\".format(t,p))"
   ]
  },
  {
   "cell_type": "code",
   "execution_count": 30,
   "metadata": {},
   "outputs": [
    {
     "name": "stdout",
     "output_type": "stream",
     "text": [
      "18\n",
      "-0.3221173213801983 0.7473975996951103\n"
     ]
    }
   ],
   "source": [
    "t,p = t_test(A,B)\n",
    "print(t,p)"
   ]
  },
  {
   "cell_type": "code",
   "execution_count": 18,
   "metadata": {},
   "outputs": [],
   "source": [
    "a = A\n",
    "b = B"
   ]
  },
  {
   "cell_type": "code",
   "execution_count": 26,
   "metadata": {},
   "outputs": [
    {
     "name": "stdout",
     "output_type": "stream",
     "text": [
      "1993.1187538343745\n",
      "Manual Welch t-test\n",
      "t:\t -3.221173213801983 p:\t 0.001297241037400143\n"
     ]
    }
   ],
   "source": [
    "N1 = len(a)\n",
    "s1_sq = a.var()\n",
    "N2 = len(b)\n",
    "s2_sq = b.var()\n",
    "t = (a.mean() - b.mean()) / np.sqrt(s1_sq / N1 + s2_sq / N2)\n",
    "\n",
    "nu1 = N1 - 1\n",
    "nu2 = N2 - 1\n",
    "df = (s1_sq / N1 + s2_sq / N2)**2 / ( (s1_sq*s1_sq) / (N1*N1 * nu1) + (s2_sq*s2_sq) / (N2*N2 * nu2) )\n",
    "print(df)\n",
    "p = (1 - stats.t.cdf(np.abs(t), df=df))*2\n",
    "print(\"Manual Welch t-test\")\n",
    "print(\"t:\\t\", t, \"p:\\t\", p)"
   ]
  },
  {
   "cell_type": "code",
   "execution_count": null,
   "metadata": {},
   "outputs": [],
   "source": []
  },
  {
   "cell_type": "code",
   "execution_count": null,
   "metadata": {},
   "outputs": [],
   "source": []
  },
  {
   "cell_type": "code",
   "execution_count": null,
   "metadata": {},
   "outputs": [],
   "source": []
  },
  {
   "cell_type": "code",
   "execution_count": null,
   "metadata": {},
   "outputs": [],
   "source": []
  },
  {
   "cell_type": "code",
   "execution_count": null,
   "metadata": {},
   "outputs": [],
   "source": []
  }
 ],
 "metadata": {
  "kernelspec": {
   "display_name": "Python 3",
   "language": "python",
   "name": "python3"
  },
  "language_info": {
   "codemirror_mode": {
    "name": "ipython",
    "version": 3
   },
   "file_extension": ".py",
   "mimetype": "text/x-python",
   "name": "python",
   "nbconvert_exporter": "python",
   "pygments_lexer": "ipython3",
   "version": "3.7.4"
  }
 },
 "nbformat": 4,
 "nbformat_minor": 4
}
