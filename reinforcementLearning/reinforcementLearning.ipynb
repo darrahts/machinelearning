{
 "cells": [
  {
   "cell_type": "markdown",
   "metadata": {},
   "source": [
    "# Reinforcement learning\n",
    "- multi armed bandit 1 https://towardsdatascience.com/solving-the-multi-armed-bandit-problem-b72de40db97c\n",
    "- multi armed bandit 2 https://medium.com/@SYM0920/the-multi-armed-bandits-problem-bba9ea35a1e4\n",
    "- thompson sampling https://arxiv.org/pdf/1707.02038.pdf\n",
    "- upper confidence boundshttp://banditalgs.com/2016/09/18/the-upper-confidence-bound-algorithm/\n",
    "- exploration vs exploitation tradeoff https://medium.com/@dennybritz/exploration-vs-exploitation-f46af4cf62fe\n",
    "- regret https://stats.stackexchange.com/questions/171850/why-regret-is-used-in-online-machine-learning-and-is-there-any-intuitive-explana"
   ]
  },
  {
   "cell_type": "markdown",
   "metadata": {},
   "source": [
    "#### Upper confidence bound\n",
    "- assumes a starting value for each distribution\n",
    "- randomly test a distribution (explore)\n",
    "- decrease or increase the confidence bound for that distribution based off the observation\n",
    "- shrink the confidence bound\n",
    "- repeat 2 through 4 n number of times\n",
    "- exploit the distribution with the highest bound"
   ]
  },
  {
   "cell_type": "code",
   "execution_count": 17,
   "metadata": {},
   "outputs": [],
   "source": [
    "import numpy as np\n",
    "import pandas as pd\n",
    "import matplotlib.pyplot as plt\n",
    "import random\n",
    "import math"
   ]
  },
  {
   "cell_type": "markdown",
   "metadata": {},
   "source": [
    "### Get the dataset\n",
    "- data set of online ads\n",
    "- ctr = click through rate, find ad that gives most clicks"
   ]
  },
  {
   "cell_type": "code",
   "execution_count": 16,
   "metadata": {},
   "outputs": [
    {
     "name": "stdout",
     "output_type": "stream",
     "text": [
      "10000\n",
      "10\n"
     ]
    },
    {
     "data": {
      "text/html": [
       "<div>\n",
       "<style scoped>\n",
       "    .dataframe tbody tr th:only-of-type {\n",
       "        vertical-align: middle;\n",
       "    }\n",
       "\n",
       "    .dataframe tbody tr th {\n",
       "        vertical-align: top;\n",
       "    }\n",
       "\n",
       "    .dataframe thead th {\n",
       "        text-align: right;\n",
       "    }\n",
       "</style>\n",
       "<table border=\"1\" class=\"dataframe\">\n",
       "  <thead>\n",
       "    <tr style=\"text-align: right;\">\n",
       "      <th></th>\n",
       "      <th>Ad 1</th>\n",
       "      <th>Ad 2</th>\n",
       "      <th>Ad 3</th>\n",
       "      <th>Ad 4</th>\n",
       "      <th>Ad 5</th>\n",
       "      <th>Ad 6</th>\n",
       "      <th>Ad 7</th>\n",
       "      <th>Ad 8</th>\n",
       "      <th>Ad 9</th>\n",
       "      <th>Ad 10</th>\n",
       "    </tr>\n",
       "  </thead>\n",
       "  <tbody>\n",
       "    <tr>\n",
       "      <th>0</th>\n",
       "      <td>1</td>\n",
       "      <td>0</td>\n",
       "      <td>0</td>\n",
       "      <td>0</td>\n",
       "      <td>1</td>\n",
       "      <td>0</td>\n",
       "      <td>0</td>\n",
       "      <td>0</td>\n",
       "      <td>1</td>\n",
       "      <td>0</td>\n",
       "    </tr>\n",
       "    <tr>\n",
       "      <th>1</th>\n",
       "      <td>0</td>\n",
       "      <td>0</td>\n",
       "      <td>0</td>\n",
       "      <td>0</td>\n",
       "      <td>0</td>\n",
       "      <td>0</td>\n",
       "      <td>0</td>\n",
       "      <td>0</td>\n",
       "      <td>1</td>\n",
       "      <td>0</td>\n",
       "    </tr>\n",
       "    <tr>\n",
       "      <th>2</th>\n",
       "      <td>0</td>\n",
       "      <td>0</td>\n",
       "      <td>0</td>\n",
       "      <td>0</td>\n",
       "      <td>0</td>\n",
       "      <td>0</td>\n",
       "      <td>0</td>\n",
       "      <td>0</td>\n",
       "      <td>0</td>\n",
       "      <td>0</td>\n",
       "    </tr>\n",
       "    <tr>\n",
       "      <th>3</th>\n",
       "      <td>0</td>\n",
       "      <td>1</td>\n",
       "      <td>0</td>\n",
       "      <td>0</td>\n",
       "      <td>0</td>\n",
       "      <td>0</td>\n",
       "      <td>0</td>\n",
       "      <td>1</td>\n",
       "      <td>0</td>\n",
       "      <td>0</td>\n",
       "    </tr>\n",
       "    <tr>\n",
       "      <th>4</th>\n",
       "      <td>0</td>\n",
       "      <td>0</td>\n",
       "      <td>0</td>\n",
       "      <td>0</td>\n",
       "      <td>0</td>\n",
       "      <td>0</td>\n",
       "      <td>0</td>\n",
       "      <td>0</td>\n",
       "      <td>0</td>\n",
       "      <td>0</td>\n",
       "    </tr>\n",
       "  </tbody>\n",
       "</table>\n",
       "</div>"
      ],
      "text/plain": [
       "   Ad 1  Ad 2  Ad 3  Ad 4  Ad 5  Ad 6  Ad 7  Ad 8  Ad 9  Ad 10\n",
       "0     1     0     0     0     1     0     0     0     1      0\n",
       "1     0     0     0     0     0     0     0     0     1      0\n",
       "2     0     0     0     0     0     0     0     0     0      0\n",
       "3     0     1     0     0     0     0     0     1     0      0\n",
       "4     0     0     0     0     0     0     0     0     0      0"
      ]
     },
     "execution_count": 16,
     "metadata": {},
     "output_type": "execute_result"
    }
   ],
   "source": [
    "df = pd.read_csv(\"Ads_CTR_Optimisation.csv\")\n",
    "rows = len(df)\n",
    "cols = len(df.keys())\n",
    "print(rows)\n",
    "print(cols)\n",
    "df.head()"
   ]
  },
  {
   "cell_type": "markdown",
   "metadata": {},
   "source": [
    "- cols = different versions of the same ad (i.e. 10 \"armed bandits\")\n",
    "- rows = number of users shown a version of the ad\n",
    "- 1 indicates a user clicks on the ad, 0 else"
   ]
  },
  {
   "cell_type": "markdown",
   "metadata": {},
   "source": [
    "### view the performance of random selection"
   ]
  },
  {
   "cell_type": "code",
   "execution_count": 36,
   "metadata": {},
   "outputs": [],
   "source": [
    "ads = []\n",
    "reward = 0\n",
    "for i in range(0, len(df)):\n",
    "    j = random.randrange(len(df.keys()))\n",
    "    ads.append(j)\n",
    "    reward = reward + df.values[i, j]"
   ]
  },
  {
   "cell_type": "markdown",
   "metadata": {},
   "source": [
    "- visualize the performance"
   ]
  },
  {
   "cell_type": "code",
   "execution_count": 37,
   "metadata": {},
   "outputs": [
    {
     "data": {
      "image/png": "[encoded data removed]",
      "text/plain": [
       "<Figure size 432x288 with 1 Axes>"
      ]
     },
     "metadata": {
      "needs_background": "light"
     },
     "output_type": "display_data"
    },
    {
     "name": "stdout",
     "output_type": "stream",
     "text": [
      "total reward:  1211\n"
     ]
    }
   ],
   "source": [
    "plt.hist(ads, width=.4)\n",
    "plt.title(\"ad selections at random\")\n",
    "plt.xlabel(\"ads\")\n",
    "plt.ylabel(\"number of cliks\")\n",
    "plt.show()\n",
    "print(\"total reward: \", reward)"
   ]
  },
  {
   "cell_type": "markdown",
   "metadata": {},
   "source": [
    "### Implement UCB\n",
    "- deterministic\n",
    "- initialize arrays for the times an ad was selected and the total reward for that ad"
   ]
  },
  {
   "cell_type": "code",
   "execution_count": 32,
   "metadata": {},
   "outputs": [],
   "source": [
    "selected = []\n",
    "selections = np.zeros(cols)\n",
    "rewards = np.zeros(cols)\n",
    "totalReward = 0"
   ]
  },
  {
   "cell_type": "markdown",
   "metadata": {},
   "source": [
    "- first sample each distribution at least once\n",
    "- compute average reward of ad j up to round i\n",
    "- compute delta j (confidence measure)\n",
    "- compute the confidence interval of ad j at round i\n",
    "- add the selected ad to the selected array, update the current and total rewards"
   ]
  },
  {
   "cell_type": "code",
   "execution_count": 33,
   "metadata": {},
   "outputs": [],
   "source": [
    "for i in range(0, rows):\n",
    "    maxUCB = 0\n",
    "    ad = 0\n",
    "    for j in range(0, cols): \n",
    "        if(selections[j] > 0): #executes after first round\n",
    "            avgReward = rewards[j] / selections[j]\n",
    "            delta_j = math.sqrt(3/2 * math.log(i+1) / selections[j])\n",
    "            ucb = avgReward + delta_j\n",
    "        else:\n",
    "            ucb = float('inf')\n",
    "        if(ucb > maxUCB):\n",
    "            maxUCB = ucb\n",
    "            ad = j\n",
    "    selected.append(ad)\n",
    "    np.add.at(selections, ad, 1) #increment by 1\n",
    "    curReward = df.values[i, ad]#get the reward (whether they clicked or not) of the current ad\n",
    "    np.add.at(rewards, ad, curReward) #increment the rewards by the reward amount\n",
    "    totalReward = totalReward + curReward\n",
    "    "
   ]
  },
  {
   "cell_type": "markdown",
   "metadata": {},
   "source": [
    "### Visualize the results"
   ]
  },
  {
   "cell_type": "code",
   "execution_count": 64,
   "metadata": {},
   "outputs": [
    {
     "data": {
      "image/png": "[encoded data removed]",
      "text/plain": [
       "<Figure size 864x288 with 1 Axes>"
      ]
     },
     "metadata": {
      "needs_background": "light"
     },
     "output_type": "display_data"
    }
   ],
   "source": [
    "plt.figure(figsize=(12,4))\n",
    "plt.hist(selected, width=.4)\n",
    "plt.title('Histogram of ads selections')\n",
    "plt.xlabel('Ads')\n",
    "plt.ylabel('Number of times each ad was selected')\n",
    "plt.show()"
   ]
  },
  {
   "cell_type": "code",
   "execution_count": 89,
   "metadata": {},
   "outputs": [
    {
     "data": {
      "image/png": "[encoded data removed]",
      "text/plain": [
       "<Figure size 864x288 with 1 Axes>"
      ]
     },
     "metadata": {
      "needs_background": "light"
     },
     "output_type": "display_data"
    },
    {
     "name": "stdout",
     "output_type": "stream",
     "text": [
      "total reward:  2178\n"
     ]
    }
   ],
   "source": [
    "size = [x*5 for x in rewards]\n",
    "plt.figure(figsize=(12,4))\n",
    "plt.scatter(np.arange(0, len(rewards)), rewards, s=size)\n",
    "plt.title('total reward by ad')\n",
    "plt.xlabel('(Ad, reward)')\n",
    "plt.xticks(np.arange(0, len(rewards)), zip(np.arange(0, len(rewards)), [int(x) for x in rewards]), ha='right', rotation=45)\n",
    "plt.ylabel('total reward')\n",
    "plt.show()\n",
    "print(\"total reward: \", totalReward)"
   ]
  },
  {
   "cell_type": "code",
   "execution_count": 57,
   "metadata": {},
   "outputs": [
    {
     "data": {
      "image/png": "[encoded data removed]",
      "text/plain": [
       "<Figure size 864x288 with 1 Axes>"
      ]
     },
     "metadata": {
      "needs_background": "light"
     },
     "output_type": "display_data"
    }
   ],
   "source": [
    "factor = 10\n",
    "displayed = []\n",
    "count = np.arange(0, rows)\n",
    "for i in range(0, rows):\n",
    "    if(i % factor == 0):\n",
    "        displayed.append(selected[i])\n",
    "    else:\n",
    "        displayed.append(None)\n",
    "\n",
    "plt.figure(figsize=(12, 4))\n",
    "plt.scatter(count, displayed, s=1)\n",
    "plt.title(\"selection trace of UCB algorithm for 10 armed bandits (ads)\")\n",
    "plt.xlabel(\"iteration number\")\n",
    "plt.ylabel(\"bandit (ad) selection\")\n",
    "plt.show()"
   ]
  },
  {
   "cell_type": "markdown",
   "metadata": {},
   "source": [
    "### Implement Thompson Sampling\n",
    "- probabilistic\n",
    "- http://proceedings.mlr.press/v23/agrawal12/agrawal12.pdf\n",
    "- https://stats.stackexchange.com/questions/187059/what-is-thompson-sampling-in-laymans-terms\n",
    "- sample each distribution a few times\n",
    "- construct meta-distributions of each \n",
    "- sample from the meta-distribution\n",
    "- sample from the distribution with the highest meta-distribution sample\n",
    "- update the meta-distribution with the previously sampled point\n",
    "- go back to step 3"
   ]
  },
  {
   "cell_type": "code",
   "execution_count": null,
   "metadata": {},
   "outputs": [],
   "source": []
  },
  {
   "cell_type": "code",
   "execution_count": null,
   "metadata": {},
   "outputs": [],
   "source": []
  },
  {
   "cell_type": "code",
   "execution_count": null,
   "metadata": {},
   "outputs": [],
   "source": []
  },
  {
   "cell_type": "code",
   "execution_count": null,
   "metadata": {},
   "outputs": [],
   "source": []
  },
  {
   "cell_type": "code",
   "execution_count": null,
   "metadata": {},
   "outputs": [],
   "source": []
  },
  {
   "cell_type": "code",
   "execution_count": null,
   "metadata": {},
   "outputs": [],
   "source": []
  },
  {
   "cell_type": "code",
   "execution_count": null,
   "metadata": {},
   "outputs": [],
   "source": []
  },
  {
   "cell_type": "code",
   "execution_count": null,
   "metadata": {},
   "outputs": [],
   "source": []
  },
  {
   "cell_type": "code",
   "execution_count": null,
   "metadata": {},
   "outputs": [],
   "source": []
  },
  {
   "cell_type": "code",
   "execution_count": null,
   "metadata": {},
   "outputs": [],
   "source": []
  }
 ],
 "metadata": {
  "kernelspec": {
   "display_name": "Python 3",
   "language": "python",
   "name": "python3"
  },
  "language_info": {
   "codemirror_mode": {
    "name": "ipython",
    "version": 3
   },
   "file_extension": ".py",
   "mimetype": "text/x-python",
   "name": "python",
   "nbconvert_exporter": "python",
   "pygments_lexer": "ipython3",
   "version": "3.6.8"
  }
 },
 "nbformat": 4,
 "nbformat_minor": 2
}
